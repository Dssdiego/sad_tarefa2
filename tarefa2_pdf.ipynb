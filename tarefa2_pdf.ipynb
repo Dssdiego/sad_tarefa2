{
 "cells": [
  {
   "cell_type": "markdown",
   "metadata": {},
   "source": [
    "# Tarefa 2 - Google Trends\n",
    "\n",
    "**Disciplina:** Sistemas de Apoio à Decisão <br>\n",
    "**Aluno:** Diego Santos Seabra <br>\n",
    "**Matrícula:** 0040251\n",
    "\n",
    "## Descrição da Tarefa\n",
    "\n",
    "Suponha que você faz parte de uma equipe de apoio a tomada de decisões em uma empresa multinacional responsável por distribuir e vender determinados produtos/serviços no Brasil. A empresa deve escolher entre pelo menos 3 produtos/serviços do tipo X (da sua escolha) para investir e distribuir. Você é o profissional responsável por desenvolver um relatório para que os executivos tomem a decisão final de qual produto/serviço deve investir no ano de 2021."
   ]
  },
  {
   "cell_type": "markdown",
   "metadata": {},
   "source": [
    "## Nota Explicativa\n",
    "\n",
    "Os dados aqui representados foram retirados do Google Trends usando uma API (_pytrends_) e demonstram o interesse (em pontos) de um produto ao longo do tempo. A API em questão se encontra disponível no seguinte [link](https://github.com/GeneralMills/pytrends).\n",
    "\n",
    "## Relatório\n",
    "\n",
    "Este relatório visa trazer informações à respeito de 3 consoles de vídeo games disponíveis no mercado, sendo eles:\n",
    "\n",
    "- Microsoft Xbox Series X\n",
    "- Sony PlayStation 5\n",
    "- Nintendo Switch\n",
    "\n",
    "A princípio é feita uma comparação entre os últimos 5 anos (2016-2020) e o último ano fiscal (2020), visando obter informações importantes para qual console investir no ano de 2021.\n",
    "\n",
    "#### Últimos 5 anos (01/01/2016 - 31/12/2020)\n",
    "\n",
    "![](img/interesse_5anos.png)\n",
    "\n",
    "É possível perceber que o _Xbox Series X_ só obteve pesquisas no começo do ano de 2020; isso é devido ao fato de que o console foi anunciado na _The Game Awards_ de 2019 com previsão de chegada ao mercado em 2020.\n",
    "\n",
    "![](img/xbox_launch_news.png)\n",
    "\n",
    "Em relação ao _Nintendo Switch_, o mesmo ocorre. Seu anúncio foi feito em 20 de outubro de 2016 e a partir dessa data houve um crescimento no interesse sobre o console.\n",
    "\n",
    "![](img/switch_launch_news.png)\n",
    "\n",
    "#### Últimos 12 meses (01/01/2020 - 31/12/2020)\n",
    "\n",
    "![](img/interesse_1ano.png)\n",
    "\n",
    "No ano de 2020, o _PlayStation 5_ obteve um aumento de interesse no início de junho; provocado pela confirmação da Sony de um evento à respeito do console.\n",
    "\n",
    "![](img/ps5_spike.png)\n",
    "\n",
    "Esse evento teve como objetivo trazer ao conhecimento do público alguns dos jogos que seriam lançados e a data de chegada ao mercado (Novembro de 2020).\n",
    "\n",
    "![](img/ps5_spike2.png)\n",
    "\n",
    "Outro ponto perceptível é o pico de setembro, um aumento no interesse devido à demonstração do console antes de seu lançamento no mercado.\n",
    "\n",
    "![](img/ps5_spike3.png)\n",
    "\n",
    "Seguindo o acontecimento quase que simultâneo desses 3 grandes picos (junho, setembro e novembro) entre o _Xbox Series X_ e o _PlayStation 5_, \n",
    "é possível identificar uma grande competitividade entre as duas produtoras desses consoles (Sony x Microsoft); com datas de eventos e lançamentos suspiciosamente semelhantes.\n",
    "\n",
    "![](img/xbox_spike.png)\n",
    "\n",
    "![](img/xbox_spike2.png)\n",
    "\n",
    "![](img/xbox_spike3.png)\n",
    "\n",
    "### Final do Ano: E os presentes de Natal?\n",
    "\n",
    "![](img/final_ano.png)\n",
    "\n",
    "É de se esperar que o final do ano seja uma boa época para a venda de um console de jogos, porém com os impactos da pandemia do coronavírus e a escassez dos consoles, o interesse foi diminuindo ao longo do tempo; os consumidores que encontravam os consoles para a venda tiveram que pagar preços exorbitantes (duas vezes a mais do que foi anunciado na sua estréia).\n",
    "\n",
    "![](img/ps5_xbox_escasso.png)"
   ]
  },
  {
   "cell_type": "markdown",
   "metadata": {},
   "source": [
    "### Tomada de Decisão: Que produto escolher para investir em 2021?\n",
    "\n",
    "Verificando a tendência do interesse ao longo do ano de 2020 é possível perceber que todos os consoles apresentaram aumento, porém o _Nintendo Switch_ foi o que teve menor aumento comparado com os outros dois consoles.\n",
    "\n",
    "![](img/tendency.png)\n",
    "\n",
    "Outro fator importante a ser analisado é a distribuição do interesse, como pode ser vista abaixo. O _PlayStation 5_ foi o console que teve a maior variação ao longo do ano de 2020 (não necessariamente sendo um bom sinal).\n",
    "\n",
    "Já o _Nintendo Switch_ teve a maior **média**, o que indica que apesar de não ter grandes picos, o interesse neste console foi estável e contínuo ao longo do ano.\n",
    "\n",
    "![](img/dist_int.png)\n",
    "\n",
    "Por consequência, a soma dos interesses também demonstra que o _Nintendo Switch_ \"saiu na frente\" em relação aos outros dois consoles e que os picos de interesse no _Xbox Series X_ e no _PlayStation 5_ são meramente interesses momentâneos. Ou seja, foram feitas mais pesquisas em determinados momentos (datas de lançamento dos consoles) e estes interesses não se acumulam ao longo do tempo.\n",
    "\n",
    "![](img/sum_int.png)"
   ]
  },
  {
   "cell_type": "markdown",
   "metadata": {},
   "source": [
    "### Análise geográfica do Interesse\n",
    "\n",
    "Tendo em vista que já se sabe o interesse destes consoles, é necessário também verificar em quais partes do país estes consoles possuem maior interesse, para a criação de uma estratégia que funcione no longo prazo.\n",
    "\n",
    "![](img/region_xbox.png)\n",
    "![](img/region_ps5.png)\n",
    "![](img/region_switch.png)"
   ]
  },
  {
   "cell_type": "markdown",
   "metadata": {},
   "source": [
    "### Resultados\n",
    "\n",
    "Findando a análise, pode-se esboçar 3 estratégias para investimento nos consoles para o ano de 2021, conforme o perfil do investidor.\n",
    "\n",
    "#### Investidor Conservador\n",
    "\n",
    "Para um investidor conservador é interessante que seu capital investido esteja seguro e que haja um retorno financeiro estável e de longo prazo. A este tipo de investidor sugere-se o investimento majoritário no _Nintendo Switch_, console que apresentou maior estabilidade ao longo do ano de 2020. O resto da carteira desse investidor é composto pelos consoles _Xbox Series X_ e _PlayStation 5_ de tal maneira que este investidor não corra um grande risco.\n",
    "\n",
    "![](img/inv_1.png)\n",
    "\n",
    "#### Investidor Moderado\n",
    "\n",
    "Para um investidor moderado é interessante manter o capital investido com uma rentabilidade fluida no longo prazo e pode-se correr alguns riscos visando o aumento de capital no curto prazo. A este tipo de investidor sugere-se 50% da carteira voltada para o _Nintendo Switch_, garantindo a estabilidade do longo prazo e os outros 50% da carteira voltados para o _Xbox Series X_ e _PlayStation 5_, que garantirão lucros no curto prazo.\n",
    "\n",
    "![](img/inv_2.png)\n",
    "\n",
    "#### Investidor Arrojado\n",
    "\n",
    "Para um investidor arrojado é interessante correr altos riscos altos a fim de receber lucros rápidos no capital investido. A este tipo de investidor sugere-se o investimento majoritário no _Xbox Series X_ e _PlayStation 5_ a fim de \"surfar a onda\" da novidade que estes consoles trazem para o mercado no ano de 2021. O resto da carteira é focada no _Nintendo Switch_, agindo como um _fail-safe_ e evitando grandes perdas de capital caso os outros dois consoles não sejam bem aceitos no mercado.\n",
    "\n",
    "![](img/inv_3.png)"
   ]
  }
 ],
 "metadata": {
  "kernelspec": {
   "display_name": "Python 3",
   "language": "python",
   "name": "python3"
  },
  "language_info": {
   "codemirror_mode": {
    "name": "ipython",
    "version": 3
   },
   "file_extension": ".py",
   "mimetype": "text/x-python",
   "name": "python",
   "nbconvert_exporter": "python",
   "pygments_lexer": "ipython3",
   "version": "3.8.5"
  }
 },
 "nbformat": 4,
 "nbformat_minor": 4
}
